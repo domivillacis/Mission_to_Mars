{
 "cells": [
  {
   "cell_type": "code",
   "execution_count": 84,
   "id": "ccf52021",
   "metadata": {},
   "outputs": [],
   "source": [
    "# 1. Import dependencies\n",
    "import pandas as pd\n",
    "import matplotlib.pyplot as plt\n",
    "from splinter import Browser\n",
    "from bs4 import BeautifulSoup as soup\n",
    "from webdriver_manager.chrome import ChromeDriverManager"
   ]
  },
  {
   "cell_type": "code",
   "execution_count": 59,
   "id": "b6b34914",
   "metadata": {},
   "outputs": [],
   "source": [
    "# 2. Excecute path\n",
    "\n",
    "executable_path = {'executable_path': ChromeDriverManager().install()}\n",
    "browser = Browser('chrome', **executable_path, headless=False)\n",
    "\n",
    "url = 'https://data-class-mars-challenge.s3.amazonaws.com/Mars/index.html'\n",
    "browser.visit(url)\n",
    "html = browser.html\n",
    "data_soup = soup(html, 'html.parser')"
   ]
  },
  {
   "cell_type": "code",
   "execution_count": 60,
   "id": "1b72bfcb",
   "metadata": {},
   "outputs": [
    {
     "name": "stdout",
     "output_type": "stream",
     "text": [
      "[['2'], ['13'], ['24'], ['35'], ['46'], ['57'], ['68'], ['79'], ['112'], ['114'], ['123'], ['134'], ['145'], ['156'], ['163'], ['170'], ['171'], ['172'], ['173'], ['175'], ['176'], ['177'], ['178'], ['179'], ['180'], ['181'], ['182'], ['183'], ['184'], ['185'], ['186'], ['187'], ['188'], ['189'], ['190'], ['191'], ['192'], ['193'], ['194'], ['195'], ['196'], ['197'], ['198'], ['199'], ['200'], ['201'], ['202'], ['203'], ['204'], ['205'], ['206'], ['207'], ['208'], ['209'], ['210'], ['211'], ['212'], ['213'], ['214'], ['215'], ['216'], ['217'], ['218'], ['219'], ['220'], ['221'], ['222'], ['223'], ['224'], ['225'], ['226'], ['227'], ['228'], ['229'], ['230'], ['231'], ['233'], ['234'], ['235'], ['236'], ['237'], ['238'], ['239'], ['240'], ['241'], ['242'], ['3'], ['4'], ['5'], ['6'], ['7'], ['8'], ['9'], ['10'], ['11'], ['12'], ['14'], ['15'], ['16'], ['17'], ['18'], ['19'], ['20'], ['21'], ['22'], ['23'], ['25'], ['26'], ['27'], ['28'], ['29'], ['30'], ['31'], ['32'], ['33'], ['34'], ['36'], ['37'], ['38'], ['39'], ['40'], ['41'], ['42'], ['43'], ['44'], ['45'], ['47'], ['48'], ['49'], ['50'], ['51'], ['52'], ['53'], ['54'], ['55'], ['56'], ['58'], ['59'], ['60'], ['61'], ['62'], ['63'], ['64'], ['65'], ['66'], ['67'], ['69'], ['70'], ['71'], ['72'], ['73'], ['74'], ['75'], ['76'], ['77'], ['78'], ['80'], ['81'], ['82'], ['83'], ['84'], ['85'], ['86'], ['87'], ['88'], ['89'], ['91'], ['92'], ['93'], ['94'], ['95'], ['96'], ['97'], ['98'], ['99'], ['100'], ['102'], ['103'], ['106'], ['107'], ['108'], ['109'], ['116'], ['117'], ['118'], ['119'], ['120'], ['121'], ['122'], ['124'], ['125'], ['126'], ['127'], ['128'], ['129'], ['130'], ['131'], ['132'], ['133'], ['135'], ['136'], ['137'], ['138'], ['139'], ['140'], ['141'], ['142'], ['143'], ['144'], ['146'], ['147'], ['148'], ['149'], ['150'], ['151'], ['152'], ['153'], ['154'], ['155'], ['157'], ['158'], ['161'], ['162'], ['164'], ['165'], ['166'], ['167'], ['168'], ['169'], ['244'], ['245'], ['246'], ['247'], ['248'], ['249'], ['250'], ['251'], ['252'], ['253'], ['254'], ['255'], ['256'], ['257'], ['258'], ['259'], ['260'], ['261'], ['262'], ['263'], ['264'], ['265'], ['266'], ['267'], ['286'], ['276'], ['287'], ['283'], ['281'], ['275'], ['280'], ['279'], ['282'], ['284'], ['278'], ['277'], ['285'], ['274'], ['272'], ['273'], ['288'], ['268'], ['270'], ['271'], ['269'], ['289'], ['291'], ['290'], ['292'], ['294'], ['295'], ['296'], ['293'], ['298'], ['297'], ['303'], ['300'], ['299'], ['301'], ['302'], ['305'], ['304'], ['306'], ['308'], ['307'], ['310'], ['309'], ['311'], ['317'], ['312'], ['314'], ['313'], ['315'], ['316'], ['318'], ['320'], ['319'], ['323'], ['322'], ['321'], ['324'], ['325'], ['326'], ['328'], ['330'], ['331'], ['332'], ['333'], ['334'], ['335'], ['337'], ['336'], ['340'], ['338'], ['339'], ['341'], ['343'], ['345'], ['344'], ['342'], ['346'], ['351'], ['347'], ['349'], ['350'], ['348'], ['352'], ['353'], ['354'], ['355'], ['356'], ['357'], ['358'], ['359'], ['360'], ['361'], ['363'], ['362'], ['365'], ['364'], ['367'], ['366'], ['374'], ['370'], ['369'], ['368'], ['373'], ['372'], ['371'], ['376'], ['375'], ['377'], ['378'], ['379'], ['380'], ['381'], ['385'], ['382'], ['384'], ['383'], ['386'], ['393'], ['388'], ['392'], ['391'], ['387'], ['390'], ['389'], ['395'], ['394'], ['397'], ['396'], ['398'], ['399'], ['400'], ['401'], ['404'], ['402'], ['405'], ['403'], ['407'], ['406'], ['409'], ['410'], ['412'], ['415'], ['411'], ['414'], ['413'], ['475'], ['479'], ['416'], ['417'], ['420'], ['419'], ['418'], ['421'], ['422'], ['473'], ['480'], ['423'], ['434'], ['433'], ['427'], ['426'], ['429'], ['431'], ['428'], ['425'], ['424'], ['432'], ['430'], ['435'], ['437'], ['483'], ['436'], ['438'], ['439'], ['440'], ['442'], ['443'], ['441'], ['446'], ['444'], ['445'], ['447'], ['450'], ['449'], ['448'], ['451'], ['452'], ['453'], ['454'], ['455'], ['458'], ['457'], ['456'], ['459'], ['460'], ['461'], ['462'], ['463'], ['465'], ['464'], ['466'], ['467'], ['468'], ['470'], ['469'], ['472'], ['476'], ['481'], ['482'], ['477'], ['486'], ['487'], ['490'], ['489'], ['488'], ['491'], ['492'], ['494'], ['495'], ['493'], ['496'], ['497'], ['499'], ['501'], ['498'], ['500'], ['502'], ['503'], ['504'], ['506'], ['505'], ['509'], ['508'], ['507'], ['510'], ['511'], ['512'], ['513'], ['515'], ['514'], ['516'], ['517'], ['518'], ['520'], ['519'], ['521'], ['522'], ['523'], ['524'], ['525'], ['526'], ['528'], ['527'], ['529'], ['530'], ['532'], ['531'], ['535'], ['533'], ['534'], ['536'], ['537'], ['538'], ['539'], ['540'], ['542'], ['543'], ['541'], ['544'], ['545'], ['548'], ['546'], ['547'], ['549'], ['550'], ['551'], ['552'], ['554'], ['555'], ['553'], ['556'], ['557'], ['558'], ['559'], ['561'], ['562'], ['560'], ['563'], ['564'], ['565'], ['566'], ['568'], ['569'], ['567'], ['570'], ['571'], ['572'], ['573'], ['576'], ['575'], ['574'], ['577'], ['578'], ['582'], ['580'], ['579'], ['581'], ['583'], ['584'], ['585'], ['586'], ['588'], ['589'], ['587'], ['590'], ['591'], ['592'], ['593'], ['595'], ['594'], ['596'], ['597'], ['598'], ['599'], ['600'], ['602'], ['603'], ['601'], ['604'], ['605'], ['609'], ['607'], ['610'], ['608'], ['606'], ['611'], ['613'], ['612'], ['614'], ['615'], ['616'], ['617'], ['618'], ['619'], ['622'], ['621'], ['624'], ['620'], ['623'], ['625'], ['626'], ['627'], ['628'], ['629'], ['630'], ['631'], ['632'], ['633'], ['634'], ['637'], ['636'], ['635'], ['638'], ['639'], ['640'], ['641'], ['642'], ['643'], ['644'], ['645'], ['646'], ['647'], ['648'], ['650'], ['651'], ['649'], ['652'], ['653'], ['654'], ['658'], ['656'], ['655'], ['657'], ['659'], ['661'], ['660'], ['662'], ['663'], ['664'], ['665'], ['666'], ['667'], ['669'], ['668'], ['671'], ['670'], ['672'], ['676'], ['673'], ['677'], ['674'], ['675'], ['678'], ['679'], ['680'], ['681'], ['682'], ['685'], ['683'], ['684'], ['686'], ['687'], ['689'], ['688'], ['691'], ['690'], ['692'], ['693'], ['695'], ['694'], ['698'], ['696'], ['697'], ['699'], ['700'], ['701'], ['702'], ['704'], ['705'], ['703'], ['706'], ['707'], ['708'], ['709'], ['710'], ['712'], ['711'], ['713'], ['714'], ['715'], ['716'], ['719'], ['717'], ['718'], ['720'], ['721'], ['722'], ['723'], ['725'], ['724'], ['727'], ['726'], ['728'], ['729'], ['732'], ['731'], ['730'], ['733'], ['734'], ['735'], ['736'], ['739'], ['738'], ['737'], ['740'], ['741'], ['743'], ['742'], ['746'], ['745'], ['744'], ['747'], ['748'], ['750'], ['749'], ['752'], ['753'], ['751'], ['754'], ['755'], ['756'], ['757'], ['759'], ['758'], ['761'], ['760'], ['763'], ['765'], ['762'], ['764'], ['766'], ['768'], ['767'], ['770'], ['769'], ['771'], ['773'], ['772'], ['774'], ['775'], ['776'], ['777'], ['780'], ['778'], ['779'], ['782'], ['781'], ['783'], ['784'], ['790'], ['793'], ['788'], ['786'], ['785'], ['791'], ['792'], ['787'], ['789'], ['794'], ['797'], ['796'], ['798'], ['799'], ['795'], ['801'], ['800'], ['802'], ['803'], ['804'], ['807'], ['805'], ['806'], ['808'], ['809'], ['810'], ['811'], ['812'], ['813'], ['814'], ['815'], ['817'], ['818'], ['820'], ['821'], ['819'], ['823'], ['822'], ['824'], ['825'], ['826'], ['827'], ['828'], ['829'], ['830'], ['831'], ['833'], ['832'], ['834'], ['835'], ['836'], ['837'], ['838'], ['839'], ['841'], ['840'], ['843'], ['842'], ['844'], ['845'], ['847'], ['846'], ['849'], ['848'], ['850'], ['851'], ['852'], ['854'], ['853'], ['855'], ['856'], ['857'], ['858'], ['859'], ['861'], ['860'], ['862'], ['863'], ['864'], ['865'], ['868'], ['867'], ['866'], ['869'], ['870'], ['872'], ['871'], ['874'], ['876'], ['875'], ['880'], ['877'], ['878'], ['881'], ['879'], ['882'], ['883'], ['884'], ['885'], ['888'], ['886'], ['887'], ['889'], ['892'], ['891'], ['893'], ['895'], ['894'], ['896'], ['897'], ['898'], ['900'], ['899'], ['901'], ['902'], ['903'], ['906'], ['904'], ['905'], ['907'], ['908'], ['909'], ['910'], ['913'], ['912'], ['911'], ['914'], ['917'], ['916'], ['915'], ['918'], ['919'], ['920'], ['922'], ['921'], ['923'], ['926'], ['924'], ['927'], ['925'], ['929'], ['928'], ['930'], ['931'], ['932'], ['933'], ['936'], ['934'], ['935'], ['939'], ['941'], ['937'], ['940'], ['946'], ['947'], ['948'], ['949'], ['953'], ['950'], ['951'], ['952'], ['955'], ['956'], ['954'], ['938'], ['942'], ['944'], ['943'], ['945'], ['958'], ['957'], ['960'], ['959'], ['961'], ['963'], ['962'], ['965'], ['964'], ['966'], ['967'], ['968'], ['969'], ['970'], ['972'], ['971'], ['973'], ['974'], ['975'], ['978'], ['979'], ['977'], ['976'], ['980'], ['981'], ['983'], ['982'], ['984'], ['985'], ['987'], ['986'], ['988'], ['989'], ['990'], ['992'], ['993'], ['991'], ['994'], ['996'], ['995'], ['997'], ['998'], ['1000'], ['999'], ['1001'], ['1002'], ['1003'], ['1004'], ['1005'], ['1006'], ['1007'], ['1008'], ['1009'], ['1010'], ['1013'], ['1011'], ['1012'], ['1014'], ['1015'], ['1017'], ['1016'], ['1019'], ['1020'], ['1018'], ['1021'], ['1022'], ['1023'], ['1024'], ['1026'], ['1027'], ['1025'], ['1028'], ['1029'], ['1030'], ['1031'], ['1034'], ['1032'], ['1033'], ['1035'], ['1036'], ['1037'], ['1040'], ['1038'], ['1039'], ['1041'], ['1042'], ['1043'], ['1044'], ['1045'], ['1047'], ['1046'], ['1048'], ['1049'], ['1050'], ['1051'], ['1052'], ['1053'], ['1054'], ['1055'], ['1056'], ['1057'], ['1058'], ['1059'], ['1060'], ['1061'], ['1062'], ['1063'], ['1064'], ['1065'], ['1069'], ['1066'], ['1068'], ['1067'], ['1070'], ['1071'], ['1072'], ['1073'], ['1074'], ['1075'], ['1076'], ['1077'], ['1078'], ['1080'], ['1079'], ['1081'], ['1082'], ['1086'], ['1083'], ['1088'], ['1084'], ['1085'], ['1087'], ['1089'], ['1090'], ['1091'], ['1092'], ['1093'], ['1094'], ['1095'], ['1096'], ['1097'], ['1098'], ['1102'], ['1100'], ['1101'], ['1099'], ['1104'], ['1103'], ['1105'], ['1106'], ['1107'], ['1108'], ['1109'], ['1110'], ['1111'], ['1112'], ['1114'], ['1113'], ['1115'], ['1116'], ['1117'], ['1118'], ['1119'], ['1120'], ['1121'], ['1122'], ['1123'], ['1124'], ['1125'], ['1126'], ['1129'], ['1127'], ['1128'], ['1130'], ['1131'], ['1132'], ['1133'], ['1136'], ['1135'], ['1134'], ['1137'], ['1138'], ['1139'], ['1141'], ['1140'], ['1142'], ['1143'], ['1145'], ['1144'], ['1146'], ['1147'], ['1148'], ['1149'], ['1150'], ['1151'], ['1152'], ['1153'], ['1155'], ['1154'], ['1156'], ['1157'], ['1158'], ['1159'], ['1160'], ['1161'], ['1162'], ['1163'], ['1164'], ['1166'], ['1165'], ['1170'], ['1169'], ['1167'], ['1168'], ['1171'], ['1172'], ['1173'], ['1174'], ['1175'], ['1176'], ['1178'], ['1177'], ['1179'], ['1180'], ['1182'], ['1185'], ['1184'], ['1181'], ['1183'], ['1187'], ['1186'], ['1188'], ['1189'], ['1190'], ['1191'], ['1192'], ['1193'], ['1194'], ['1195'], ['1197'], ['1196'], ['1198'], ['1199'], ['1201'], ['1200'], ['1202'], ['1203'], ['1204'], ['1205'], ['1206'], ['1207'], ['1208'], ['1210'], ['1209'], ['1211'], ['1212'], ['1213'], ['1214'], ['1216'], ['1217'], ['1215'], ['1218'], ['1219'], ['1220'], ['1222'], ['1221'], ['1223'], ['1224'], ['1226'], ['1225'], ['1229'], ['1228'], ['1227'], ['1230'], ['1231'], ['1232'], ['1233'], ['1235'], ['1234'], ['1236'], ['1237'], ['1238'], ['1239'], ['1240'], ['1243'], ['1241'], ['1242'], ['1244'], ['1245'], ['1246'], ['1247'], ['1248'], ['1250'], ['1249'], ['1251'], ['1252'], ['1253'], ['1256'], ['1254'], ['1255'], ['1257'], ['1258'], ['1259'], ['1260'], ['1262'], ['1263'], ['1261'], ['1264'], ['1265'], ['1266'], ['1267'], ['1268'], ['1269'], ['1270'], ['1271'], ['1272'], ['1273'], ['1276'], ['1274'], ['1277'], ['1275'], ['1278'], ['1279'], ['1280'], ['1283'], ['1281'], ['1282'], ['1284'], ['1286'], ['1285'], ['1287'], ['1288'], ['1289'], ['1290'], ['1291'], ['1292'], ['1293'], ['1294'], ['1295'], ['1296'], ['1297'], ['1299'], ['1298'], ['1301'], ['1300'], ['1303'], ['1302'], ['1304'], ['1305'], ['1306'], ['1308'], ['1307'], ['1311'], ['1309'], ['1310'], ['1312'], ['1313'], ['1314'], ['1315'], ['1316'], ['1317'], ['1318'], ['1319'], ['1322'], ['1321'], ['1320'], ['1323'], ['1324'], ['1325'], ['1328'], ['1329'], ['1327'], ['1326'], ['1330'], ['1331'], ['1333'], ['1332'], ['1336'], ['1334'], ['1335'], ['1337'], ['1338'], ['1339'], ['1340'], ['1343'], ['1342'], ['1341'], ['1344'], ['1345'], ['1346'], ['1347'], ['1348'], ['1349'], ['1351'], ['1350'], ['1352'], ['1353'], ['1356'], ['1355'], ['1354'], ['1357'], ['1358'], ['1360'], ['1359'], ['1361'], ['1362'], ['1363'], ['1364'], ['1365'], ['1366'], ['1367'], ['1369'], ['1368'], ['1370'], ['1371'], ['1373'], ['1372'], ['1374'], ['1377'], ['1376'], ['1375'], ['1378'], ['1379'], ['1380'], ['1382'], ['1381'], ['1383'], ['1384'], ['1385'], ['1386'], ['1387'], ['1388'], ['1389'], ['1391'], ['1392'], ['1390'], ['1393'], ['1394'], ['1396'], ['1395'], ['1397'], ['1399'], ['1398'], ['1400'], ['1401'], ['1403'], ['1402'], ['1404'], ['1405'], ['1406'], ['1407'], ['1408'], ['1410'], ['1411'], ['1409'], ['1412'], ['1413'], ['1414'], ['1416'], ['1415'], ['1417'], ['1418'], ['1419'], ['1420'], ['1421'], ['1422'], ['1424'], ['1423'], ['1425'], ['1426'], ['1427'], ['1428'], ['1430'], ['1431'], ['1429'], ['1432'], ['1433'], ['1434'], ['1435'], ['1436'], ['1437'], ['1438'], ['1440'], ['1439'], ['1441'], ['1442'], ['1443'], ['1444'], ['1445'], ['1446'], ['1449'], ['1450'], ['1451'], ['1452'], ['1447'], ['1448'], ['1453'], ['1454'], ['1455'], ['1456'], ['1458'], ['1457'], ['1459'], ['1460'], ['1461'], ['1462'], ['1464'], ['1463'], ['1465'], ['1467'], ['1466'], ['1468'], ['1469'], ['1472'], ['1471'], ['1470'], ['1474'], ['1473'], ['1477'], ['1478'], ['1475'], ['1476'], ['1484'], ['1482'], ['1485'], ['1479'], ['1483'], ['1481'], ['1480'], ['1487'], ['1486'], ['1488'], ['1492'], ['1491'], ['1490'], ['1489'], ['1493'], ['1495'], ['1494'], ['1496'], ['1498'], ['1499'], ['1500'], ['1497'], ['1501'], ['1503'], ['1502'], ['1505'], ['1506'], ['1504'], ['1508'], ['1507'], ['1510'], ['1509'], ['1512'], ['1511'], ['1513'], ['1514'], ['1515'], ['1516'], ['1517'], ['1519'], ['1518'], ['1520'], ['1522'], ['1521'], ['1523'], ['1524'], ['1526'], ['1525'], ['1528'], ['1527'], ['1529'], ['1534'], ['1533'], ['1536'], ['1535'], ['1537'], ['1540'], ['1538'], ['1539'], ['1541'], ['1542'], ['1544'], ['1543'], ['1546'], ['1545'], ['1547'], ['1549'], ['1548'], ['1551'], ['1550'], ['1552'], ['1554'], ['1553'], ['1555'], ['1556'], ['1557'], ['1559'], ['1558'], ['1561'], ['1560'], ['1564'], ['1563'], ['1562'], ['1567'], ['1565'], ['1566'], ['1568'], ['1569'], ['1570'], ['1571'], ['1572'], ['1573'], ['1575'], ['1574'], ['1576'], ['1578'], ['1577'], ['1579'], ['1581'], ['1580'], ['1583'], ['1584'], ['1586'], ['1585'], ['1582'], ['1588'], ['1587'], ['1589'], ['1590'], ['1591'], ['1592'], ['1594'], ['1593'], ['1595'], ['1596'], ['1597'], ['1598'], ['1599'], ['1601'], ['1602'], ['1603'], ['1600'], ['1604'], ['1605'], ['1607'], ['1608'], ['1606'], ['1610'], ['1609'], ['1614'], ['1612'], ['1613'], ['1611'], ['1615'], ['1616'], ['1618'], ['1617'], ['1619'], ['1620'], ['1621'], ['1622'], ['1625'], ['1623'], ['1624'], ['1627'], ['1626'], ['1628'], ['1629'], ['1631'], ['1630'], ['1635'], ['1633'], ['1634'], ['1632'], ['1636'], ['1637'], ['1639'], ['1638'], ['1641'], ['1640'], ['1642'], ['1643'], ['1644'], ['1645'], ['1647'], ['1648'], ['1646'], ['1650'], ['1649'], ['1651'], ['1652'], ['1655'], ['1653'], ['1654'], ['1656'], ['1657'], ['1658'], ['1662'], ['1659'], ['1661'], ['1660'], ['1663'], ['1664'], ['1665'], ['1666'], ['1668'], ['1667'], ['1669'], ['1670'], ['1671'], ['1672'], ['1673'], ['1674'], ['1675'], ['1676'], ['1677'], ['1678'], ['1679'], ['1684'], ['1687'], ['1680'], ['1682'], ['1690'], ['1688'], ['1691'], ['1683'], ['1689'], ['1686'], ['1692'], ['1681'], ['1685'], ['1693'], ['1694'], ['1696'], ['1695'], ['1697'], ['1698'], ['1699'], ['1700'], ['1701'], ['1703'], ['1702'], ['1704'], ['1705'], ['1706'], ['1708'], ['1707'], ['1709'], ['1710'], ['1711'], ['1712'], ['1714'], ['1715'], ['1713'], ['1716'], ['1717'], ['1718'], ['1719'], ['1722'], ['1723'], ['1720'], ['1721'], ['1724'], ['1725'], ['1726'], ['1728'], ['1729'], ['1727'], ['1730'], ['1731'], ['1732'], ['1733'], ['1734'], ['1735'], ['1736'], ['1737'], ['1738'], ['1740'], ['1739'], ['1743'], ['1742'], ['1741'], ['1744'], ['1745'], ['1746'], ['1749'], ['1748'], ['1747'], ['1750'], ['1751'], ['1752'], ['1753'], ['1755'], ['1756'], ['1754'], ['1757'], ['1758'], ['1759'], ['1761'], ['1760'], ['1762'], ['1763'], ['1765'], ['1764'], ['1766'], ['1770'], ['1768'], ['1767'], ['1769'], ['1771'], ['1772'], ['1773'], ['1774'], ['1776'], ['1775'], ['1779'], ['1778'], ['1780'], ['1777'], ['1781'], ['1782'], ['1783'], ['1785'], ['1784'], ['1786'], ['1787'], ['1788'], ['1789'], ['1791'], ['1790'], ['1792'], ['1793'], ['1794'], ['1797'], ['1795'], ['1796'], ['1798'], ['1803'], ['1801'], ['1800'], ['1799'], ['1804'], ['1805'], ['1802'], ['1807'], ['1806'], ['1808'], ['1810'], ['1809'], ['1812'], ['1811'], ['1814'], ['1813'], ['1817'], ['1816'], ['1815'], ['1818'], ['1819'], ['1820'], ['1821'], ['1822'], ['1823'], ['1824'], ['1825'], ['1826'], ['1827'], ['1828'], ['1833'], ['1832'], ['1830'], ['1834'], ['1835'], ['1829'], ['1831'], ['1839'], ['1836'], ['1837'], ['1838'], ['1840'], ['1842'], ['1841'], ['1844'], ['1843'], ['1845'], ['1847'], ['1846'], ['1848'], ['1849'], ['1850'], ['1852'], ['1851'], ['1853'], ['1855'], ['1854'], ['1859'], ['1857'], ['1858'], ['1856'], ['1860'], ['1863'], ['1861'], ['1862'], ['1864'], ['1865'], ['1866'], ['1867'], ['1868'], ['1869'], ['1871'], ['1870'], ['1872'], ['1873'], ['1879'], ['1875'], ['1874'], ['1878'], ['1876'], ['1877'], ['1880'], ['1881'], ['1882'], ['1883'], ['1884'], ['1885'], ['1886'], ['1887'], ['1888'], ['1890'], ['1891'], ['1889'], ['1892'], ['1894'], ['1893'], ['1895']]\n"
     ]
    }
   ],
   "source": [
    "# 3. Scrape data with Splinter and Beautiful Soup\n",
    "table = data_soup.find_all('tr', class_='data-row')\n",
    "\n",
    "list_of_rows = []\n",
    "for row in table:\n",
    "    td = row.find('td')\n",
    "    row = [col.text for col in td]\n",
    "    list_of_rows.append(row)\n",
    "print(list_of_rows)"
   ]
  },
  {
   "cell_type": "code",
   "execution_count": 94,
   "id": "79d541fd",
   "metadata": {},
   "outputs": [
    {
     "data": {
      "text/plain": [
       "[        id terrestrial_date   sol   ls  month  min_temp  pressure\n",
       " 0        2       2012-08-16    10  155      6     -75.0     739.0\n",
       " 1       13       2012-08-17    11  156      6     -76.0     740.0\n",
       " 2       24       2012-08-18    12  156      6     -76.0     741.0\n",
       " 3       35       2012-08-19    13  157      6     -74.0     732.0\n",
       " 4       46       2012-08-20    14  157      6     -74.0     740.0\n",
       " ...    ...              ...   ...  ...    ...       ...       ...\n",
       " 1862  1889       2018-02-23  1973  133      5     -78.0     730.0\n",
       " 1863  1892       2018-02-24  1974  134      5     -77.0     729.0\n",
       " 1864  1894       2018-02-25  1975  134      5     -76.0     729.0\n",
       " 1865  1893       2018-02-26  1976  135      5     -77.0     728.0\n",
       " 1866  1895       2018-02-27  1977  135      5     -77.0     727.0\n",
       " \n",
       " [1867 rows x 7 columns]]"
      ]
     },
     "execution_count": 94,
     "metadata": {},
     "output_type": "execute_result"
    }
   ],
   "source": [
    "# Scrape data using Pandas\n",
    "mars_df = pd.read_html('https://data-class-mars-challenge.s3.amazonaws.com/Mars/index.html')\n",
    "mars_df"
   ]
  },
  {
   "cell_type": "code",
   "execution_count": 95,
   "id": "70955016",
   "metadata": {},
   "outputs": [
    {
     "data": {
      "text/html": [
       "<div>\n",
       "<style scoped>\n",
       "    .dataframe tbody tr th:only-of-type {\n",
       "        vertical-align: middle;\n",
       "    }\n",
       "\n",
       "    .dataframe tbody tr th {\n",
       "        vertical-align: top;\n",
       "    }\n",
       "\n",
       "    .dataframe thead th {\n",
       "        text-align: right;\n",
       "    }\n",
       "</style>\n",
       "<table border=\"1\" class=\"dataframe\">\n",
       "  <thead>\n",
       "    <tr style=\"text-align: right;\">\n",
       "      <th></th>\n",
       "      <th>id</th>\n",
       "      <th>terrestrial_date</th>\n",
       "      <th>sol</th>\n",
       "      <th>ls</th>\n",
       "      <th>month</th>\n",
       "      <th>min_temp</th>\n",
       "      <th>pressure</th>\n",
       "    </tr>\n",
       "  </thead>\n",
       "  <tbody>\n",
       "    <tr>\n",
       "      <th>0</th>\n",
       "      <td>2</td>\n",
       "      <td>2012-08-16</td>\n",
       "      <td>10</td>\n",
       "      <td>155</td>\n",
       "      <td>6</td>\n",
       "      <td>-75.0</td>\n",
       "      <td>739.0</td>\n",
       "    </tr>\n",
       "    <tr>\n",
       "      <th>1</th>\n",
       "      <td>13</td>\n",
       "      <td>2012-08-17</td>\n",
       "      <td>11</td>\n",
       "      <td>156</td>\n",
       "      <td>6</td>\n",
       "      <td>-76.0</td>\n",
       "      <td>740.0</td>\n",
       "    </tr>\n",
       "    <tr>\n",
       "      <th>2</th>\n",
       "      <td>24</td>\n",
       "      <td>2012-08-18</td>\n",
       "      <td>12</td>\n",
       "      <td>156</td>\n",
       "      <td>6</td>\n",
       "      <td>-76.0</td>\n",
       "      <td>741.0</td>\n",
       "    </tr>\n",
       "    <tr>\n",
       "      <th>3</th>\n",
       "      <td>35</td>\n",
       "      <td>2012-08-19</td>\n",
       "      <td>13</td>\n",
       "      <td>157</td>\n",
       "      <td>6</td>\n",
       "      <td>-74.0</td>\n",
       "      <td>732.0</td>\n",
       "    </tr>\n",
       "    <tr>\n",
       "      <th>4</th>\n",
       "      <td>46</td>\n",
       "      <td>2012-08-20</td>\n",
       "      <td>14</td>\n",
       "      <td>157</td>\n",
       "      <td>6</td>\n",
       "      <td>-74.0</td>\n",
       "      <td>740.0</td>\n",
       "    </tr>\n",
       "    <tr>\n",
       "      <th>5</th>\n",
       "      <td>57</td>\n",
       "      <td>2012-08-21</td>\n",
       "      <td>15</td>\n",
       "      <td>158</td>\n",
       "      <td>6</td>\n",
       "      <td>-78.0</td>\n",
       "      <td>740.0</td>\n",
       "    </tr>\n",
       "    <tr>\n",
       "      <th>6</th>\n",
       "      <td>68</td>\n",
       "      <td>2012-08-22</td>\n",
       "      <td>16</td>\n",
       "      <td>158</td>\n",
       "      <td>6</td>\n",
       "      <td>-77.0</td>\n",
       "      <td>740.0</td>\n",
       "    </tr>\n",
       "    <tr>\n",
       "      <th>7</th>\n",
       "      <td>79</td>\n",
       "      <td>2012-08-23</td>\n",
       "      <td>17</td>\n",
       "      <td>159</td>\n",
       "      <td>6</td>\n",
       "      <td>-76.0</td>\n",
       "      <td>742.0</td>\n",
       "    </tr>\n",
       "    <tr>\n",
       "      <th>8</th>\n",
       "      <td>112</td>\n",
       "      <td>2012-08-27</td>\n",
       "      <td>21</td>\n",
       "      <td>161</td>\n",
       "      <td>6</td>\n",
       "      <td>-74.0</td>\n",
       "      <td>741.0</td>\n",
       "    </tr>\n",
       "    <tr>\n",
       "      <th>9</th>\n",
       "      <td>114</td>\n",
       "      <td>2012-08-28</td>\n",
       "      <td>22</td>\n",
       "      <td>162</td>\n",
       "      <td>6</td>\n",
       "      <td>-74.0</td>\n",
       "      <td>742.0</td>\n",
       "    </tr>\n",
       "  </tbody>\n",
       "</table>\n",
       "</div>"
      ],
      "text/plain": [
       "    id terrestrial_date  sol   ls  month  min_temp  pressure\n",
       "0    2       2012-08-16   10  155      6     -75.0     739.0\n",
       "1   13       2012-08-17   11  156      6     -76.0     740.0\n",
       "2   24       2012-08-18   12  156      6     -76.0     741.0\n",
       "3   35       2012-08-19   13  157      6     -74.0     732.0\n",
       "4   46       2012-08-20   14  157      6     -74.0     740.0\n",
       "5   57       2012-08-21   15  158      6     -78.0     740.0\n",
       "6   68       2012-08-22   16  158      6     -77.0     740.0\n",
       "7   79       2012-08-23   17  159      6     -76.0     742.0\n",
       "8  112       2012-08-27   21  161      6     -74.0     741.0\n",
       "9  114       2012-08-28   22  162      6     -74.0     742.0"
      ]
     },
     "execution_count": 95,
     "metadata": {},
     "output_type": "execute_result"
    }
   ],
   "source": [
    "# 4. Assemble the scraped data into a Pandas DataFrame\n",
    "mars_data_df = mars_df[0]\n",
    "mars_data_df.head(10)"
   ]
  },
  {
   "cell_type": "code",
   "execution_count": 96,
   "id": "2f094f7a",
   "metadata": {},
   "outputs": [
    {
     "name": "stdout",
     "output_type": "stream",
     "text": [
      "<class 'pandas.core.frame.DataFrame'>\n",
      "RangeIndex: 1867 entries, 0 to 1866\n",
      "Data columns (total 7 columns):\n",
      " #   Column            Non-Null Count  Dtype  \n",
      "---  ------            --------------  -----  \n",
      " 0   id                1867 non-null   int64  \n",
      " 1   terrestrial_date  1867 non-null   object \n",
      " 2   sol               1867 non-null   int64  \n",
      " 3   ls                1867 non-null   int64  \n",
      " 4   month             1867 non-null   int64  \n",
      " 5   min_temp          1867 non-null   float64\n",
      " 6   pressure          1867 non-null   float64\n",
      "dtypes: float64(2), int64(4), object(1)\n",
      "memory usage: 102.2+ KB\n"
     ]
    }
   ],
   "source": [
    "# 5. Examine the data types\n",
    "mars_data_df.info()"
   ]
  },
  {
   "cell_type": "code",
   "execution_count": 97,
   "id": "d76610e6",
   "metadata": {},
   "outputs": [
    {
     "data": {
      "text/plain": [
       "0      2012-08-16\n",
       "1      2012-08-17\n",
       "2      2012-08-18\n",
       "3      2012-08-19\n",
       "4      2012-08-20\n",
       "          ...    \n",
       "1862   2018-02-23\n",
       "1863   2018-02-24\n",
       "1864   2018-02-25\n",
       "1865   2018-02-26\n",
       "1866   2018-02-27\n",
       "Name: terrestrial_date, Length: 1867, dtype: datetime64[ns]"
      ]
     },
     "execution_count": 97,
     "metadata": {},
     "output_type": "execute_result"
    }
   ],
   "source": [
    "# Convert the data\n",
    "mars_data_df['terrestrial_date'] = pd.to_datetime(mars_data_df['terrestrial_date'])\n",
    "mars_data_df['terrestrial_date']"
   ]
  },
  {
   "cell_type": "code",
   "execution_count": 98,
   "id": "1881eb36",
   "metadata": {},
   "outputs": [
    {
     "data": {
      "text/plain": [
       "id                           int64\n",
       "terrestrial_date    datetime64[ns]\n",
       "sol                          int64\n",
       "ls                           int64\n",
       "month                        int64\n",
       "min_temp                   float64\n",
       "pressure                   float64\n",
       "dtype: object"
      ]
     },
     "execution_count": 98,
     "metadata": {},
     "output_type": "execute_result"
    }
   ],
   "source": [
    "# Check data types\n",
    "mars_data_df.dtypes"
   ]
  },
  {
   "cell_type": "code",
   "execution_count": 99,
   "id": "d79a48d8",
   "metadata": {},
   "outputs": [
    {
     "data": {
      "text/plain": [
       "12"
      ]
     },
     "execution_count": 99,
     "metadata": {},
     "output_type": "execute_result"
    }
   ],
   "source": [
    "# 6. How many months exist on Mars?\n",
    "mars_data_df['month'].max()"
   ]
  },
  {
   "cell_type": "code",
   "execution_count": 100,
   "id": "f6e59afa",
   "metadata": {},
   "outputs": [
    {
     "data": {
      "text/plain": [
       "1867"
      ]
     },
     "execution_count": 100,
     "metadata": {},
     "output_type": "execute_result"
    }
   ],
   "source": [
    "# 7. How many Martian (and not Earth) days worth of data exist in the scraped dataset?\n",
    "mars_data_df['sol'].count()"
   ]
  },
  {
   "cell_type": "code",
   "execution_count": 101,
   "id": "f182f675",
   "metadata": {},
   "outputs": [
    {
     "data": {
      "text/html": [
       "<div>\n",
       "<style scoped>\n",
       "    .dataframe tbody tr th:only-of-type {\n",
       "        vertical-align: middle;\n",
       "    }\n",
       "\n",
       "    .dataframe tbody tr th {\n",
       "        vertical-align: top;\n",
       "    }\n",
       "\n",
       "    .dataframe thead th {\n",
       "        text-align: right;\n",
       "    }\n",
       "</style>\n",
       "<table border=\"1\" class=\"dataframe\">\n",
       "  <thead>\n",
       "    <tr style=\"text-align: right;\">\n",
       "      <th></th>\n",
       "      <th>min_temp</th>\n",
       "    </tr>\n",
       "    <tr>\n",
       "      <th>month</th>\n",
       "      <th></th>\n",
       "    </tr>\n",
       "  </thead>\n",
       "  <tbody>\n",
       "    <tr>\n",
       "      <th>1</th>\n",
       "      <td>-77.160920</td>\n",
       "    </tr>\n",
       "    <tr>\n",
       "      <th>2</th>\n",
       "      <td>-79.932584</td>\n",
       "    </tr>\n",
       "    <tr>\n",
       "      <th>3</th>\n",
       "      <td>-83.307292</td>\n",
       "    </tr>\n",
       "    <tr>\n",
       "      <th>4</th>\n",
       "      <td>-82.747423</td>\n",
       "    </tr>\n",
       "    <tr>\n",
       "      <th>5</th>\n",
       "      <td>-79.308725</td>\n",
       "    </tr>\n",
       "    <tr>\n",
       "      <th>6</th>\n",
       "      <td>-75.299320</td>\n",
       "    </tr>\n",
       "    <tr>\n",
       "      <th>7</th>\n",
       "      <td>-72.281690</td>\n",
       "    </tr>\n",
       "    <tr>\n",
       "      <th>8</th>\n",
       "      <td>-68.382979</td>\n",
       "    </tr>\n",
       "    <tr>\n",
       "      <th>9</th>\n",
       "      <td>-69.171642</td>\n",
       "    </tr>\n",
       "    <tr>\n",
       "      <th>10</th>\n",
       "      <td>-71.982143</td>\n",
       "    </tr>\n",
       "    <tr>\n",
       "      <th>11</th>\n",
       "      <td>-71.985507</td>\n",
       "    </tr>\n",
       "    <tr>\n",
       "      <th>12</th>\n",
       "      <td>-74.451807</td>\n",
       "    </tr>\n",
       "  </tbody>\n",
       "</table>\n",
       "</div>"
      ],
      "text/plain": [
       "        min_temp\n",
       "month           \n",
       "1     -77.160920\n",
       "2     -79.932584\n",
       "3     -83.307292\n",
       "4     -82.747423\n",
       "5     -79.308725\n",
       "6     -75.299320\n",
       "7     -72.281690\n",
       "8     -68.382979\n",
       "9     -69.171642\n",
       "10    -71.982143\n",
       "11    -71.985507\n",
       "12    -74.451807"
      ]
     },
     "execution_count": 101,
     "metadata": {},
     "output_type": "execute_result"
    }
   ],
   "source": [
    "# 8. What are the coldest and the warmest months on Mars (at the location of Curiosity)? \n",
    "# Get the answer by averaging the minimum daily temperature of all the months. Plot the results as a bar chart.\n",
    "avg_temp = mars_data_df.groupby('month').mean()[['min_temp']]\n",
    "avg_temp"
   ]
  },
  {
   "cell_type": "code",
   "execution_count": 102,
   "id": "63ee806d",
   "metadata": {},
   "outputs": [
    {
     "data": {
      "image/png": "[encoded data removed]",
      "text/plain": [
       "<Figure size 432x288 with 1 Axes>"
      ]
     },
     "metadata": {
      "needs_background": "light"
     },
     "output_type": "display_data"
    }
   ],
   "source": [
    " # Plot the results\n",
    "avg_temp.plot.bar(y=\"min_temp\")\n",
    "plt.gca().invert_yaxis()"
   ]
  },
  {
   "cell_type": "code",
   "execution_count": 103,
   "id": "04cf1123",
   "metadata": {},
   "outputs": [
    {
     "data": {
      "text/html": [
       "<div>\n",
       "<style scoped>\n",
       "    .dataframe tbody tr th:only-of-type {\n",
       "        vertical-align: middle;\n",
       "    }\n",
       "\n",
       "    .dataframe tbody tr th {\n",
       "        vertical-align: top;\n",
       "    }\n",
       "\n",
       "    .dataframe thead th {\n",
       "        text-align: right;\n",
       "    }\n",
       "</style>\n",
       "<table border=\"1\" class=\"dataframe\">\n",
       "  <thead>\n",
       "    <tr style=\"text-align: right;\">\n",
       "      <th></th>\n",
       "      <th>pressure</th>\n",
       "    </tr>\n",
       "    <tr>\n",
       "      <th>month</th>\n",
       "      <th></th>\n",
       "    </tr>\n",
       "  </thead>\n",
       "  <tbody>\n",
       "    <tr>\n",
       "      <th>1</th>\n",
       "      <td>862.488506</td>\n",
       "    </tr>\n",
       "    <tr>\n",
       "      <th>2</th>\n",
       "      <td>889.455056</td>\n",
       "    </tr>\n",
       "    <tr>\n",
       "      <th>3</th>\n",
       "      <td>877.322917</td>\n",
       "    </tr>\n",
       "    <tr>\n",
       "      <th>4</th>\n",
       "      <td>806.329897</td>\n",
       "    </tr>\n",
       "    <tr>\n",
       "      <th>5</th>\n",
       "      <td>748.557047</td>\n",
       "    </tr>\n",
       "    <tr>\n",
       "      <th>6</th>\n",
       "      <td>745.054422</td>\n",
       "    </tr>\n",
       "    <tr>\n",
       "      <th>7</th>\n",
       "      <td>795.105634</td>\n",
       "    </tr>\n",
       "    <tr>\n",
       "      <th>8</th>\n",
       "      <td>873.829787</td>\n",
       "    </tr>\n",
       "    <tr>\n",
       "      <th>9</th>\n",
       "      <td>913.305970</td>\n",
       "    </tr>\n",
       "    <tr>\n",
       "      <th>10</th>\n",
       "      <td>887.312500</td>\n",
       "    </tr>\n",
       "    <tr>\n",
       "      <th>11</th>\n",
       "      <td>857.014493</td>\n",
       "    </tr>\n",
       "    <tr>\n",
       "      <th>12</th>\n",
       "      <td>842.156627</td>\n",
       "    </tr>\n",
       "  </tbody>\n",
       "</table>\n",
       "</div>"
      ],
      "text/plain": [
       "         pressure\n",
       "month            \n",
       "1      862.488506\n",
       "2      889.455056\n",
       "3      877.322917\n",
       "4      806.329897\n",
       "5      748.557047\n",
       "6      745.054422\n",
       "7      795.105634\n",
       "8      873.829787\n",
       "9      913.305970\n",
       "10     887.312500\n",
       "11     857.014493\n",
       "12     842.156627"
      ]
     },
     "execution_count": 103,
     "metadata": {},
     "output_type": "execute_result"
    }
   ],
   "source": [
    "# 9. Which months have the lowest and the highest atmospheric pressure on Mars? \n",
    "# Get the answer by averaging the daily atmospheric pressure of all the months. Plot the results as a bar chart.\n",
    "avg_pr = mars_data_df.groupby('month').mean()[['pressure']]\n",
    "avg_pr"
   ]
  },
  {
   "cell_type": "code",
   "execution_count": 104,
   "id": "27074451",
   "metadata": {},
   "outputs": [
    {
     "data": {
      "text/plain": [
       "<AxesSubplot:xlabel='month'>"
      ]
     },
     "execution_count": 104,
     "metadata": {},
     "output_type": "execute_result"
    },
    {
     "data": {
      "image/png": "[encoded data removed]",
      "text/plain": [
       "<Figure size 432x288 with 1 Axes>"
      ]
     },
     "metadata": {
      "needs_background": "light"
     },
     "output_type": "display_data"
    }
   ],
   "source": [
    "# Plot the results\n",
    "avg_pr.plot.bar(y=\"pressure\")"
   ]
  },
  {
   "cell_type": "code",
   "execution_count": null,
   "id": "3854d7b4",
   "metadata": {},
   "outputs": [],
   "source": [
    "# 10. About how many terrestrial (Earth) days exist in a Martian year? \n",
    "#That is, in the time that Mars circles the Sun once, how many days elapse on Earth? \n"
   ]
  },
  {
   "cell_type": "code",
   "execution_count": null,
   "id": "89623606",
   "metadata": {},
   "outputs": [],
   "source": [
    "# Visually estimate the result by plotting the daily minimum temperature."
   ]
  },
  {
   "cell_type": "code",
   "execution_count": null,
   "id": "f945294b",
   "metadata": {},
   "outputs": [],
   "source": [
    "# 11. Export the DataFrame to a CSV file.\n"
   ]
  },
  {
   "cell_type": "code",
   "execution_count": 97,
   "id": "d5b3f23c",
   "metadata": {},
   "outputs": [],
   "source": [
    "browser.quit()"
   ]
  },
  {
   "cell_type": "code",
   "execution_count": null,
   "id": "c5ce6082",
   "metadata": {},
   "outputs": [],
   "source": []
  }
 ],
 "metadata": {
  "kernelspec": {
   "display_name": "PythonData",
   "language": "python",
   "name": "pythondata"
  },
  "language_info": {
   "codemirror_mode": {
    "name": "ipython",
    "version": 3
   },
   "file_extension": ".py",
   "mimetype": "text/x-python",
   "name": "python",
   "nbconvert_exporter": "python",
   "pygments_lexer": "ipython3",
   "version": "3.7.13"
  }
 },
 "nbformat": 4,
 "nbformat_minor": 5
}
