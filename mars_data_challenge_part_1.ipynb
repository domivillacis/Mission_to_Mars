{
 "cells": [
  {
   "cell_type": "code",
   "execution_count": 12,
   "id": "094dfd70",
   "metadata": {},
   "outputs": [],
   "source": [
    "# Import Splinter and BeautifulSoup\n",
    "from splinter import Browser\n",
    "from bs4 import BeautifulSoup as soup\n",
    "from webdriver_manager.chrome import ChromeDriverManager\n",
    "import json"
   ]
  },
  {
   "cell_type": "code",
   "execution_count": 13,
   "id": "122ab048",
   "metadata": {},
   "outputs": [],
   "source": [
    "# Set executable path\n",
    "executable_path = {'executable_path': ChromeDriverManager().install()}\n",
    "browser = Browser('chrome', **executable_path, headless=False)"
   ]
  },
  {
   "cell_type": "code",
   "execution_count": 14,
   "id": "23500982",
   "metadata": {},
   "outputs": [
    {
     "data": {
      "text/plain": [
       "True"
      ]
     },
     "execution_count": 14,
     "metadata": {},
     "output_type": "execute_result"
    }
   ],
   "source": [
    "# Visit the Mars NASA news site\n",
    "url = 'https://redplanetscience.com'\n",
    "browser.visit(url)\n",
    "\n",
    "# Optional delay for loading the page\n",
    "browser.is_element_present_by_css('div.list_text', wait_time=1)"
   ]
  },
  {
   "cell_type": "code",
   "execution_count": 15,
   "id": "b1665c93",
   "metadata": {},
   "outputs": [],
   "source": [
    "# Set HTML parser\n",
    "html = browser.html\n",
    "news_soup = soup(html, 'html.parser')\n",
    "slide_elem = news_soup.select_one('div.list_text')"
   ]
  },
  {
   "cell_type": "code",
   "execution_count": 16,
   "id": "aaa61a49",
   "metadata": {},
   "outputs": [
    {
     "name": "stdout",
     "output_type": "stream",
     "text": [
      "NASA's Mars Perseverance Rover Gets Its Sample Handling System\n"
     ]
    }
   ],
   "source": [
    "# Scrape title\n",
    "title_elem = slide_elem.find('div', class_='content_title')\n",
    "title = title_elem.get_text()\n",
    "print(title)"
   ]
  },
  {
   "cell_type": "code",
   "execution_count": 17,
   "id": "31f19046",
   "metadata": {},
   "outputs": [
    {
     "data": {
      "text/plain": [
       "'The system will be collecting and storing Martian rock and soil. Its installation marks another milestone in the march toward the July launch period.'"
      ]
     },
     "execution_count": 17,
     "metadata": {},
     "output_type": "execute_result"
    }
   ],
   "source": [
    "# Scrape the preview text\n",
    "text_p = slide_elem.find('div', class_='article_teaser_body').text\n",
    "text_p"
   ]
  },
  {
   "cell_type": "code",
   "execution_count": 18,
   "id": "e6191bae",
   "metadata": {
    "scrolled": true
   },
   "outputs": [
    {
     "data": {
      "text/plain": [
       "[{'title': \"NASA's Mars Perseverance Rover Gets Its Sample Handling System\",\n",
       "  'summary': 'The system will be collecting and storing Martian rock and soil. Its installation marks another milestone in the march toward the July launch period.'},\n",
       " {'title': 'NASA Moves Forward With Campaign to Return Mars Samples to Earth',\n",
       "  'summary': 'During this next phase, the program will mature critical technologies and make critical design decisions as well as assess industry partnerships.'},\n",
       " {'title': \"NASA's MAVEN Explores Mars to Understand Radio Interference at Earth\",\n",
       "  'summary': 'NASA’s MAVEN spacecraft has discovered “layers” and “rifts” in the electrically charged part of the upper atmosphere of Mars.'},\n",
       " {'title': \"Hear Audio From NASA's Perseverance As It Travels Through Deep Space\",\n",
       "  'summary': \"The first to be rigged with microphones, the agency's latest Mars rover picked up the subtle sounds of its own inner workings during interplanetary flight.\"},\n",
       " {'title': 'Two of a Space Kind: Apollo 12 and Mars 2020',\n",
       "  'summary': 'Apollo 12 and the upcoming Mars 2020 mission may be separated by half a century, but they share several goals unique in the annals of space exploration.'},\n",
       " {'title': 'Mars Is Getting a New Robotic Meteorologist',\n",
       "  'summary': \"Sensors on NASA's Perseverance will help prepare for future human exploration by taking weather measurements and studying dust particles.\"},\n",
       " {'title': \"What's Mars Solar Conjunction, and Why Does It Matter?\",\n",
       "  'summary': 'NASA spacecraft at Mars are going to be on their own for a few weeks when the Sun comes between Mars and Earth, interrupting communications.'},\n",
       " {'title': \"NASA's Curiosity Rover Finds an Ancient Oasis on Mars\",\n",
       "  'summary': \"New evidence suggests salty, shallow ponds once dotted a Martian crater — a sign of the planet's drying climate.\"},\n",
       " {'title': \"NASA's Perseverance Rover Attached to Atlas V Rocket\",\n",
       "  'summary': 'Ready for its launch later in the month, the Mars-bound rover will touch terra firma no more.'},\n",
       " {'title': \"A Martian Roundtrip: NASA's Perseverance Rover Sample Tubes\",\n",
       "  'summary': \"Marvels of engineering, the rover's sample tubes must be tough enough to safely bring Red Planet samples on the long journey back to Earth in immaculate condition.\"},\n",
       " {'title': 'Join NASA for the Launch of the Mars 2020 Perseverance Rover',\n",
       "  'summary': 'No matter where you live, choose from a menu of activities to join NASA as we \"Countdown to Mars\" and launch the Perseverance rover to the Red Planet.'},\n",
       " {'title': \"A Year of Surprising Science From NASA's InSight Mars Mission\",\n",
       "  'summary': \"A batch of new papers summarizes the lander's findings above and below the surface of the Red Planet.\"},\n",
       " {'title': 'NASA Perseverance Mars Rover Scientists Train in the Nevada Desert',\n",
       "  'summary': \"Team members searched for signs of ancient microscopic life there, just as NASA's latest rover will on the Red Planet next year.\"},\n",
       " {'title': 'My Culture, My Voice',\n",
       "  'summary': 'In honor of Hispanic Heritage Month, Christina Hernandez, an instrument engineer on the Mars 2020 mission, talks about her childhood and journey to NASA.'},\n",
       " {'title': \"NASA's Mars 2020 Heads Into the Test Chamber\",\n",
       "  'summary': 'In this time-lapse video taken at JPL, engineers move the Mars 2020 rover into a large vacuum chamber for testing in Mars-like environmental conditions.'}]"
      ]
     },
     "execution_count": 18,
     "metadata": {},
     "output_type": "execute_result"
    }
   ],
   "source": [
    "# Store the scraping results in Python data structures\n",
    "texts_list = []\n",
    "texts = news_soup.find_all('div', class_='list_text')\n",
    "for text in texts:\n",
    "    title = text.find('div', class_='content_title').text.strip()\n",
    "    summary = text.find('div', class_='article_teaser_body').text.strip()\n",
    "    \n",
    "    summary_dict = {\n",
    "        \"title\":title,\n",
    "        \"summary\":summary\n",
    "    }\n",
    "    texts_list.append(summary_dict)\n",
    "texts_list"
   ]
  },
  {
   "cell_type": "code",
   "execution_count": 24,
   "id": "e071caca",
   "metadata": {},
   "outputs": [],
   "source": [
    "browser.quit()"
   ]
  }
 ],
 "metadata": {
  "kernelspec": {
   "display_name": "PythonData",
   "language": "python",
   "name": "pythondata"
  },
  "language_info": {
   "codemirror_mode": {
    "name": "ipython",
    "version": 3
   },
   "file_extension": ".py",
   "mimetype": "text/x-python",
   "name": "python",
   "nbconvert_exporter": "python",
   "pygments_lexer": "ipython3",
   "version": "3.7.13"
  }
 },
 "nbformat": 4,
 "nbformat_minor": 5
}
