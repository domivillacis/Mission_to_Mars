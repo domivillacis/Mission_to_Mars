{
 "cells": [
  {
   "cell_type": "code",
   "execution_count": 1,
   "id": "094dfd70",
   "metadata": {},
   "outputs": [],
   "source": [
    "# Import Splinter and BeautifulSoup\n",
    "from splinter import Browser\n",
    "from bs4 import BeautifulSoup as soup\n",
    "from webdriver_manager.chrome import ChromeDriverManager"
   ]
  },
  {
   "cell_type": "code",
   "execution_count": 2,
   "id": "122ab048",
   "metadata": {},
   "outputs": [],
   "source": [
    "# Set executable path\n",
    "executable_path = {'executable_path': ChromeDriverManager().install()}\n",
    "browser = Browser('chrome', **executable_path, headless=False)"
   ]
  },
  {
   "cell_type": "code",
   "execution_count": 3,
   "id": "23500982",
   "metadata": {},
   "outputs": [
    {
     "data": {
      "text/plain": [
       "True"
      ]
     },
     "execution_count": 3,
     "metadata": {},
     "output_type": "execute_result"
    }
   ],
   "source": [
    "# Visit the Mars NASA news site\n",
    "url = 'https://redplanetscience.com'\n",
    "browser.visit(url)\n",
    "\n",
    "# Optional delay for loading the page\n",
    "browser.is_element_present_by_css('div.list_text', wait_time=1)"
   ]
  },
  {
   "cell_type": "code",
   "execution_count": 4,
   "id": "b1665c93",
   "metadata": {},
   "outputs": [],
   "source": [
    "# Set HTML parser\n",
    "html = browser.html\n",
    "news_soup = soup(html, 'html.parser')\n",
    "slide_elem = news_soup.select_one('div.list_text')"
   ]
  },
  {
   "cell_type": "code",
   "execution_count": 5,
   "id": "aaa61a49",
   "metadata": {},
   "outputs": [
    {
     "name": "stdout",
     "output_type": "stream",
     "text": [
      "NASA-JPL Names 'Rolling Stones Rock' on Mars\n"
     ]
    }
   ],
   "source": [
    "# Scrape title\n",
    "title_elem = slide_elem.find('div', class_='content_title')\n",
    "title = title_elem.get_text()\n",
    "print(title)"
   ]
  },
  {
   "cell_type": "code",
   "execution_count": 11,
   "id": "31f19046",
   "metadata": {},
   "outputs": [
    {
     "data": {
      "text/plain": [
       "\"NASA's Mars InSight mission honored one of the biggest bands of all time at Pasadena concert.\""
      ]
     },
     "execution_count": 11,
     "metadata": {},
     "output_type": "execute_result"
    }
   ],
   "source": [
    "# Scrape the preview text\n",
    "text_p = slide_elem.find('div', class_='article_teaser_body').text\n",
    "text_p"
   ]
  },
  {
   "cell_type": "code",
   "execution_count": 12,
   "id": "e6191bae",
   "metadata": {},
   "outputs": [
    {
     "data": {
      "text/plain": [
       "[{'title': \"NASA-JPL Names 'Rolling Stones Rock' on Mars\",\n",
       "  'summary': \"NASA's Mars InSight mission honored one of the biggest bands of all time at Pasadena concert.\"},\n",
       " {'title': \"Mars Helicopter Attached to NASA's Perseverance Rover\",\n",
       "  'summary': \"The team also fueled the rover's sky crane to get ready for this summer's history-making launch.\"},\n",
       " {'title': \"Nine Finalists Chosen in NASA's Mars 2020 Rover Naming Contest\",\n",
       "  'summary': \"Nine finalists have been chosen in the essay contest for K-12 students across U.S. to name NASA's next Mars rover. Now you can help by voting for your favorite.\"},\n",
       " {'title': \"While Stargazing on Mars, NASA's Curiosity Rover Spots Earth and Venus\",\n",
       "  'summary': \"This new portrait of the Red Planet's neighbors was taken during a time when there's more dust in the air on Mars.\"},\n",
       " {'title': \"Air Deliveries Bring NASA's Perseverance Mars Rover Closer to Launch\",\n",
       "  'summary': \"A NASA Wallops Flight Facility cargo plane transported more than two tons of equipment — including the rover's sample collection tubes — to Florida for this summer's liftoff.\"},\n",
       " {'title': \"NASA's Mars Perseverance Rover Passes Flight Readiness Review\",\n",
       "  'summary': \"\\u200bThe agency's Mars 2020 mission has one more big prelaunch review – the Launch Readiness Review, on July 27.\"},\n",
       " {'title': 'NASA to Hold Mars 2020 Perseverance Rover Launch Briefing',\n",
       "  'summary': \"Learn more about the agency's next Red Planet mission during a live event on June 17.\"},\n",
       " {'title': \"NASA's Perseverance Mars Rover Gets Balanced\",\n",
       "  'summary': \"The mission team performed a crucial weight-balancing test on the rover in preparation for this summer's history-making launch to the Red Planet.\"},\n",
       " {'title': \"NASA's Perseverance Rover Mission Getting in Shape for Launch\",\n",
       "  'summary': 'Stacking spacecraft components on top of each other is one of the final assembly steps before a mission launches to the Red Planet.'},\n",
       " {'title': \"NASA's Curiosity Rover Finds an Ancient Oasis on Mars\",\n",
       "  'summary': \"New evidence suggests salty, shallow ponds once dotted a Martian crater — a sign of the planet's drying climate.\"},\n",
       " {'title': \"From JPL's Mailroom to Mars and Beyond\",\n",
       "  'summary': 'Bill Allen has thrived as the mechanical systems design lead for three Mars rover missions, but he got his start as a teenager sorting letters for the NASA center.'},\n",
       " {'title': \"NASA's MAVEN Observes Martian Night Sky Pulsing in Ultraviolet Light\",\n",
       "  'summary': 'Vast areas of the Martian night sky pulse in ultraviolet light, according to images from NASA’s MAVEN spacecraft. The results are being used to illuminate complex circulation patterns in the Martian atmosphere.'},\n",
       " {'title': 'Scientists Explore Outback as Testbed for Mars',\n",
       "  'summary': \"Australia provides a great place for NASA's Mars 2020 and the ESA-Roscosmos ExoMars scientists to hone techniques in preparation for searching for signs ancient life on Mars.\"},\n",
       " {'title': 'NASA Wins Two Emmy Awards for Interactive Mission Coverage',\n",
       "  'summary': \"NASA-JPL's coverage of the Mars InSight landing earns one of the two wins, making this the NASA center's second Emmy.\"},\n",
       " {'title': 'Global Storms on Mars Launch Dust Towers Into the Sky',\n",
       "  'summary': 'A Mars Dust Tower Stands Out Dust storms are common on Mars. But every decade or so, something unpredictable happens: a series of runaway storms break out, covering the entire planet in a dusty haze.'}]"
      ]
     },
     "execution_count": 12,
     "metadata": {},
     "output_type": "execute_result"
    }
   ],
   "source": [
    "# Store the scraping results in Python data structures\n",
    "texts_list = []\n",
    "texts = news_soup.find_all('div', class_='list_text')\n",
    "for text in texts:\n",
    "    title = text.find('div', class_='content_title').text.strip()\n",
    "    summary = text.find('div', class_='article_teaser_body').text.strip()\n",
    "    \n",
    "    summary_dict = {\n",
    "        \"title\":title,\n",
    "        \"summary\":summary\n",
    "    }\n",
    "    texts_list.append(summary_dict)\n",
    "texts_list"
   ]
  },
  {
   "cell_type": "code",
   "execution_count": 13,
   "id": "e071caca",
   "metadata": {},
   "outputs": [],
   "source": [
    "browser.quit()"
   ]
  }
 ],
 "metadata": {
  "kernelspec": {
   "display_name": "PythonData",
   "language": "python",
   "name": "pythondata"
  },
  "language_info": {
   "codemirror_mode": {
    "name": "ipython",
    "version": 3
   },
   "file_extension": ".py",
   "mimetype": "text/x-python",
   "name": "python",
   "nbconvert_exporter": "python",
   "pygments_lexer": "ipython3",
   "version": "3.7.13"
  }
 },
 "nbformat": 4,
 "nbformat_minor": 5
}
